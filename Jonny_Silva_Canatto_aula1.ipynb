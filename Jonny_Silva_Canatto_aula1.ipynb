{
 "cells": [
  {
   "cell_type": "markdown",
   "metadata": {},
   "source": [
    "# Desafio - Aula 1"
   ]
  },
  {
   "cell_type": "markdown",
   "metadata": {},
   "source": [
    "#### Nome: Jonny Silva Canatto\n",
    "#### RM: 332439"
   ]
  },
  {
   "cell_type": "markdown",
   "metadata": {},
   "source": [
    "### 1) O corretor ortográfico possui uma ressalva: palavra com acento difere de palavra sem acento (cartão != cartao). Crie uma função que remova a acentuação de palavras e corrija adequadamente as palavras. Isso tem que valer tanto para o texto base quando para a frase a ser corrigida.\n",
    "\n",
    "### Dica: dê uma olhada no pacote unidecodedata\n"
   ]
  },
  {
   "cell_type": "code",
   "execution_count": 1,
   "metadata": {},
   "outputs": [],
   "source": [
    "# Import das bibliotecas\n",
    "import unicodedata\n",
    "import re\n",
    "import string\n",
    "from collections import Counter"
   ]
  },
  {
   "cell_type": "code",
   "execution_count": 2,
   "metadata": {},
   "outputs": [],
   "source": [
    "# resposta 1\n",
    "def remove_accents(input_str):\n",
    "    nfkd_form = unicodedata.normalize('NFKD', input_str)\n",
    "    only_ascii = nfkd_form.encode('ASCII', 'ignore').decode('utf8')\n",
    "    return only_ascii"
   ]
  },
  {
   "cell_type": "markdown",
   "metadata": {},
   "source": [
    "## Definição de funções"
   ]
  },
  {
   "cell_type": "code",
   "execution_count": 3,
   "metadata": {},
   "outputs": [],
   "source": [
    "# Função para passar palavras para minusculo\n",
    "def words(text): return re.findall(r'\\w+', text.lower())"
   ]
  },
  {
   "cell_type": "code",
   "execution_count": 4,
   "metadata": {},
   "outputs": [],
   "source": [
    "# Retorna a palavra corrigida caso tenha erro\n",
    "def correction(word): \n",
    "    #import pdb; pdb.set_trace()\n",
    "    \"Most probable spelling correction for word.\"\n",
    "    return max(candidates(word), key=P)"
   ]
  },
  {
   "cell_type": "code",
   "execution_count": 5,
   "metadata": {},
   "outputs": [],
   "source": [
    "def candidates(word): \n",
    "    \"Generate possible spelling corrections for word.\"\n",
    "    return (known([word]) or known(edits1(word)) or known(edits2(word)) or [word])"
   ]
  },
  {
   "cell_type": "code",
   "execution_count": 6,
   "metadata": {},
   "outputs": [],
   "source": [
    "def known(words): \n",
    "    \"The subset of `words` that appear in the dictionary of WORDS.\"\n",
    "    #print('\\nknow: ',set(w for w in words if w in WORDS))\n",
    "    return set(w for w in words if w in WORDS)"
   ]
  },
  {
   "cell_type": "code",
   "execution_count": 7,
   "metadata": {},
   "outputs": [],
   "source": [
    "def edits1(word):\n",
    "    \"All edits that are one edit away from `word`.\"\n",
    "    letters    = 'abcdefghijklmnopqrstuvwxyz'\n",
    "    splits     = [(word[:i], word[i:])    for i in range(len(word) + 1)]\n",
    "    deletes    = [L + R[1:]               for L, R in splits if R]\n",
    "    transposes = [L + R[1] + R[0] + R[2:] for L, R in splits if len(R)>1]\n",
    "    replaces   = [L + c + R[1:]           for L, R in splits if R for c in letters]\n",
    "    inserts    = [L + c + R               for L, R in splits for c in letters]\n",
    "    #print ('\\nedits1: ', set(deletes + transposes + replaces + inserts))\n",
    "    return set(deletes + transposes + replaces + inserts)"
   ]
  },
  {
   "cell_type": "code",
   "execution_count": 8,
   "metadata": {},
   "outputs": [],
   "source": [
    "def edits2(word): \n",
    "    \"All edits that are two edits away from `word`.\"\n",
    "    return (e2 for e1 in edits1(word) for e2 in edits1(e1))"
   ]
  },
  {
   "cell_type": "markdown",
   "metadata": {},
   "source": [
    "### 2) Modifique o algoritmo para que ele receba uma frase como input e a retorne corrigida.\n",
    "### Ex: “jogo de futbol” > “jogo de futebol”\n"
   ]
  },
  {
   "cell_type": "code",
   "execution_count": 9,
   "metadata": {},
   "outputs": [
    {
     "name": "stdout",
     "output_type": "stream",
     "text": [
      "\n",
      "P:  0.007253886010362694\n",
      "\n",
      "P:  0.04248704663212435\n",
      "\n",
      "P:  0.024870466321243522\n",
      "jogo de futebol\n"
     ]
    }
   ],
   "source": [
    "# resposta 2\n",
    "\n",
    "#Faz a leitura do arquivo e separa por palavra\n",
    "texto = words(open('texto.txt',encoding=\"utf8\").read())\n",
    "lista_palavras_texto = []\n",
    "\n",
    "#Remove os acentos das palavras do texto\n",
    "for palavra in texto:\n",
    "    lista_palavras_texto.append(remove_accents(palavra))\n",
    "\n",
    "#Realiza a contagem da ocorrência das palavras dentro do texto\n",
    "WORDS = Counter(lista_palavras_texto)\n",
    "\n",
    "# Retorna a probabilidade da palavra dentro do contexto da ocorrência de palavras\n",
    "def P(word, N=sum(WORDS.values())): \n",
    "    \"Probability of `word`.\"\n",
    "    print('\\nP: ',(WORDS[word] / N))\n",
    "    return WORDS[word] / N\n",
    "\n",
    "frase = 'jogo de futbol'\n",
    "lista = frase.split(' ')\n",
    "frase_correta = []\n",
    "\n",
    "for palavra in lista:\n",
    "    frase_correta.append(correction(palavra))\n",
    "\n",
    "frase_final = ' '.join(frase_correta)\n",
    "\n",
    "print(frase_final)"
   ]
  },
  {
   "cell_type": "markdown",
   "metadata": {},
   "source": [
    "### 3) Ajuste o algoritmo do corretor para tratar tanto palavras escritas em maiúscula quanto em minúscula\n"
   ]
  },
  {
   "cell_type": "code",
   "execution_count": 10,
   "metadata": {},
   "outputs": [
    {
     "name": "stdout",
     "output_type": "stream",
     "text": [
      "\n",
      "P:  0.007253886010362694\n",
      "\n",
      "P:  0.04248704663212435\n",
      "\n",
      "P:  0.024870466321243522\n",
      "jogo de futebol\n"
     ]
    }
   ],
   "source": [
    "# resposta 3\n",
    "\n",
    "#Faz a leitura do arquivo e separa por palavra\n",
    "texto = words(open('texto.txt',encoding=\"utf8\").read())\n",
    "lista_palavras_texto = []\n",
    "\n",
    "#Remove os acentos das palavras do texto\n",
    "for palavra in texto:\n",
    "    lista_palavras_texto.append(remove_accents(palavra))\n",
    "\n",
    "#Realiza a contagem da ocorrência das palavras dentro do texto\n",
    "WORDS = Counter(lista_palavras_texto)\n",
    "\n",
    "# Retorna a probabilidade da palavra dentro do contexto da ocorrência de palavras\n",
    "def P(word, N=sum(WORDS.values())): \n",
    "    \"Probability of `word`.\"\n",
    "    print('\\nP: ',(WORDS[word] / N))\n",
    "    return WORDS[word] / N\n",
    "\n",
    "frase = 'JOGO DE FUTBOL'\n",
    "lista = frase.split(' ')\n",
    "frase_correta = []\n",
    "\n",
    "for palavra in lista:\n",
    "    frase_correta.append(correction(palavra.lower())) #Correção está nessa chamada que já passa a palavra para minusculo\n",
    "\n",
    "frase_final = ' '.join(frase_correta)\n",
    "\n",
    "print(frase_final)"
   ]
  },
  {
   "cell_type": "code",
   "execution_count": null,
   "metadata": {},
   "outputs": [],
   "source": []
  }
 ],
 "metadata": {
  "kernelspec": {
   "display_name": "Python 3",
   "language": "python",
   "name": "python3"
  },
  "language_info": {
   "codemirror_mode": {
    "name": "ipython",
    "version": 3
   },
   "file_extension": ".py",
   "mimetype": "text/x-python",
   "name": "python",
   "nbconvert_exporter": "python",
   "pygments_lexer": "ipython3",
   "version": "3.7.1"
  }
 },
 "nbformat": 4,
 "nbformat_minor": 2
}
