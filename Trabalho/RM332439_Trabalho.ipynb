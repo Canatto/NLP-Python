{
 "cells": [
  {
   "cell_type": "markdown",
   "metadata": {},
   "source": [
    "#### RM:332439\n",
    "#### Nome: Jonny Silva Canatto"
   ]
  },
  {
   "cell_type": "code",
   "execution_count": 1,
   "metadata": {},
   "outputs": [],
   "source": [
    "#Imports\n",
    "import pandas as pd\n",
    "import numpy as np\n",
    "import math as mat\n",
    "from sklearn.feature_extraction.text import CountVectorizer"
   ]
  },
  {
   "cell_type": "markdown",
   "metadata": {},
   "source": [
    "# Tratamento do dataset"
   ]
  },
  {
   "cell_type": "code",
   "execution_count": 2,
   "metadata": {},
   "outputs": [
    {
     "data": {
      "text/plain": [
       "0                      Toy Story (1995)\n",
       "1                        Jumanji (1995)\n",
       "2               Grumpier Old Men (1995)\n",
       "3              Waiting to Exhale (1995)\n",
       "4    Father of the Bride Part II (1995)\n",
       "Name: title, dtype: object"
      ]
     },
     "execution_count": 2,
     "metadata": {},
     "output_type": "execute_result"
    }
   ],
   "source": [
    "# Leitura do CSV e visualização do Dataframe\n",
    "df = pd.read_csv('movies.csv')\n",
    "df = df['title']\n",
    "df.head()"
   ]
  },
  {
   "cell_type": "code",
   "execution_count": 3,
   "metadata": {},
   "outputs": [
    {
     "data": {
      "text/html": [
       "<div>\n",
       "<style scoped>\n",
       "    .dataframe tbody tr th:only-of-type {\n",
       "        vertical-align: middle;\n",
       "    }\n",
       "\n",
       "    .dataframe tbody tr th {\n",
       "        vertical-align: top;\n",
       "    }\n",
       "\n",
       "    .dataframe thead th {\n",
       "        text-align: right;\n",
       "    }\n",
       "</style>\n",
       "<table border=\"1\" class=\"dataframe\">\n",
       "  <thead>\n",
       "    <tr style=\"text-align: right;\">\n",
       "      <th></th>\n",
       "      <th>title</th>\n",
       "    </tr>\n",
       "  </thead>\n",
       "  <tbody>\n",
       "    <tr>\n",
       "      <th>0</th>\n",
       "      <td>toy story</td>\n",
       "    </tr>\n",
       "    <tr>\n",
       "      <th>1</th>\n",
       "      <td>jumanji</td>\n",
       "    </tr>\n",
       "    <tr>\n",
       "      <th>2</th>\n",
       "      <td>grumpier old men</td>\n",
       "    </tr>\n",
       "    <tr>\n",
       "      <th>3</th>\n",
       "      <td>waiting to exhale</td>\n",
       "    </tr>\n",
       "    <tr>\n",
       "      <th>4</th>\n",
       "      <td>father of the bride part ii</td>\n",
       "    </tr>\n",
       "  </tbody>\n",
       "</table>\n",
       "</div>"
      ],
      "text/plain": [
       "                         title\n",
       "0                    toy story\n",
       "1                      jumanji\n",
       "2             grumpier old men\n",
       "3            waiting to exhale\n",
       "4  father of the bride part ii"
      ]
     },
     "execution_count": 3,
     "metadata": {},
     "output_type": "execute_result"
    }
   ],
   "source": [
    "#Remoção do ano no título\n",
    "df2 = [title.split('(')[0].lower().strip() for title in df]\n",
    "data = pd.DataFrame({'title':df2})\n",
    "data.head()"
   ]
  },
  {
   "cell_type": "markdown",
   "metadata": {},
   "source": [
    "# Implementando Bayes"
   ]
  },
  {
   "cell_type": "code",
   "execution_count": 4,
   "metadata": {},
   "outputs": [
    {
     "name": "stdout",
     "output_type": "stream",
     "text": [
      "<class 'list'>\n"
     ]
    }
   ],
   "source": [
    "#Querys da busca\n",
    "querys = ['toy story','the lion king','alladin','beauty and the best','cinderella','little mermaid','hercules']\n",
    "print(type(querys))"
   ]
  },
  {
   "cell_type": "code",
   "execution_count": 26,
   "metadata": {},
   "outputs": [],
   "source": [
    "#Monta DTM do corpus\n",
    "vect = CountVectorizer(ngram_range=(1,1))\n",
    "vect.fit(data['title'])\n",
    "text_vect = vect.transform(data['title'])\n",
    "dtm = pd.DataFrame(text_vect.toarray(), columns=vect.get_feature_names()).T\n",
    "\n",
    "#Monta DTM do vetor de caracteristicas\n",
    "vect = CountVectorizer(ngram_range=(1,1))\n",
    "vect.fit(querys)\n",
    "text_vect = vect.transform(querys)\n",
    "vet_caract = pd.DataFrame(text_vect.toarray(), columns=vect.get_feature_names()).T"
   ]
  },
  {
   "cell_type": "code",
   "execution_count": 28,
   "metadata": {},
   "outputs": [],
   "source": [
    "# Calculando o score\n",
    "c = 2\n",
    "X = dtm\n",
    "m = np.mean(X)\n",
    "b = c * (1 - m)\n",
    "a = c * m\n",
    "a_ = a + sum(xij)\n",
    "b_ = b + \n",
    "xij = vet_caract"
   ]
  },
  {
   "cell_type": "code",
   "execution_count": 13,
   "metadata": {},
   "outputs": [
    {
     "name": "stdout",
     "output_type": "stream",
     "text": [
      "0        0.000256\n",
      "1        0.000128\n",
      "2        0.000384\n",
      "3        0.000384\n",
      "4        0.000767\n",
      "5        0.000128\n",
      "6        0.000128\n",
      "7        0.000384\n",
      "8        0.000256\n",
      "9        0.000128\n",
      "10       0.000384\n",
      "11       0.000639\n",
      "12       0.000128\n",
      "13       0.000128\n",
      "14       0.000256\n",
      "15       0.000128\n",
      "16       0.000384\n",
      "17       0.000256\n",
      "18       0.000639\n",
      "19       0.000256\n",
      "20       0.000256\n",
      "21       0.000128\n",
      "22       0.000128\n",
      "23       0.000128\n",
      "24       0.000384\n",
      "25       0.000128\n",
      "26       0.000384\n",
      "27       0.000128\n",
      "28       0.000639\n",
      "29       0.000256\n",
      "           ...   \n",
      "27248    0.000384\n",
      "27249    0.000256\n",
      "27250    0.000767\n",
      "27251    0.000384\n",
      "27252    0.000767\n",
      "27253    0.000512\n",
      "27254    0.000256\n",
      "27255    0.000767\n",
      "27256    0.000639\n",
      "27257    0.000384\n",
      "27258    0.000384\n",
      "27259    0.000128\n",
      "27260    0.000128\n",
      "27261    0.000256\n",
      "27262    0.000128\n",
      "27263    0.000256\n",
      "27264    0.000384\n",
      "27265    0.000128\n",
      "27266    0.000512\n",
      "27267    0.000384\n",
      "27268    0.000512\n",
      "27269    0.000512\n",
      "27270    0.000256\n",
      "27271    0.000384\n",
      "27272    0.001151\n",
      "27273    0.000512\n",
      "27274    0.000384\n",
      "27275    0.000256\n",
      "27276    0.000256\n",
      "27277    0.000128\n",
      "Length: 27278, dtype: float64\n"
     ]
    }
   ],
   "source": [
    "print(a)"
   ]
  },
  {
   "cell_type": "code",
   "execution_count": null,
   "metadata": {},
   "outputs": [],
   "source": []
  }
 ],
 "metadata": {
  "kernelspec": {
   "display_name": "Python 3",
   "language": "python",
   "name": "python3"
  },
  "language_info": {
   "codemirror_mode": {
    "name": "ipython",
    "version": 3
   },
   "file_extension": ".py",
   "mimetype": "text/x-python",
   "name": "python",
   "nbconvert_exporter": "python",
   "pygments_lexer": "ipython3",
   "version": "3.7.1"
  }
 },
 "nbformat": 4,
 "nbformat_minor": 2
}
